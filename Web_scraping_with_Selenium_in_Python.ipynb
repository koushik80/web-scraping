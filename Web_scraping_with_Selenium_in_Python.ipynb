{
 "cells": [
  {
   "cell_type": "markdown",
   "metadata": {},
   "source": [
    "# Web scraping with Selenium in Python\n",
    "\n",
    "Selenium for Python module docs: https://selenium-python.readthedocs.io/\n",
    "\n",
    "## Install module Selenium\n",
    "```\n",
    "pip install selenium\n",
    "```"
   ]
  },
  {
   "cell_type": "markdown",
   "metadata": {},
   "source": [
    "## Import Selenium module\n",
    "\n",
    "```Python\n",
    "from selenium import webdriver\n",
    "\n",
    "# Quite possible we also need something else\n",
    "from selenium.webdriver.common.by import By         # To define search criterias\n",
    "from selenium.webdriver.common.keys import Keys     # To send special keypresses like arrows\n",
    "```"
   ]
  },
  {
   "cell_type": "code",
   "execution_count": 3,
   "metadata": {},
   "outputs": [],
   "source": [
    "from selenium import webdriver\n",
    "from selenium.webdriver.common.by import By\n",
    "from selenium.webdriver.common.keys import Keys"
   ]
  },
  {
   "cell_type": "markdown",
   "metadata": {},
   "source": [
    "## Browser driver\n",
    "\n",
    "A browser driver is needed to communicate selenium with the browser. Used driver must match user's browser and version.\n",
    "\n",
    "Download browser driver for Chrome from: https://sites.google.com/chromium.org/driver/\n",
    "\n",
    "Other options:\n",
    "- MS Edge: https://developer.microsoft.com/en-us/microsoft-edge/tools/webdriver/\n",
    "- Firefox: https://github.com/mozilla/geckodriver/releases\n",
    "- Safari: https://webkit.org/blog/6900/webdriver-support-in-safari-10/\n",
    "\n",
    "Confirm that you download a version of the driver that matchs the actual browser version in your system.\n",
    "\n",
    "Place the downloaded driver in your project's folder. Unzip or unpack if necessary."
   ]
  },
  {
   "cell_type": "markdown",
   "metadata": {},
   "source": [
    "## Start the browser/driver\n",
    "\n",
    "First, the browser driver is activated:\n",
    "```Python\n",
    "driver = webdriver.Chrome()\n",
    "```\n",
    "\n",
    "For other browsers:\n",
    "- Firefox: `webdriver.Firefox()`\n",
    "- Edge: `webdriver.Edge()`\n",
    "- Safari: `webdriver.Safari()`\n",
    "\n",
    "If the module doesn't find the driver by itself, add the path to the driver as a parameter. Like this:\n",
    "```Python\n",
    "driver = webdriver.Chrome('./chromedriver')\n",
    "```\n",
    "\n",
    "## Basic use"
   ]
  },
  {
   "cell_type": "code",
   "execution_count": 5,
   "metadata": {},
   "outputs": [],
   "source": [
    "# Start the browser\n",
    "driver = webdriver.Chrome()\n",
    "\n",
    "# Open a webpage:\n",
    "driver.get('https://google.com')"
   ]
  },
  {
   "cell_type": "code",
   "execution_count": 6,
   "metadata": {},
   "outputs": [],
   "source": [
    "# Google shows an user agreement. Find \"Accept\" button in the web page:\n",
    "# Old method: button = driver.get_element_by_xpath(\"//button[@id='L2AGLb\")\n",
    "# New method: button = driver.find_element(by=By.XPATH, value=\"//button[@id='L2AGLb\")\n",
    "# or even easier:\n",
    "button = driver.find_element(By.ID, 'L2AGLb')\n",
    "\n",
    "# Click the button\n",
    "button.click()"
   ]
  },
  {
   "cell_type": "markdown",
   "metadata": {},
   "source": [
    "\n",
    "Two functions/methods are used to locate HTML elements:\n",
    "- `driver.find_element(by, value)`    # Returns only one element\n",
    "- `driver.find_elements(by, value)`   # Returns a list of elements (even if there is only one result)\n",
    "\n",
    "And the search can be based on different HTML parameters (tag name, class, text, ...). This is the 'by' parameter:\n",
    "- `By.ID`: Use Id attribute for the search\n",
    "- `By.TAG_NAME`: Find certain HTML elements based on its tag name (a, p, h1, button, img, ...)\n",
    "- `By.CLASS_NAME`: Find HTML elements based on their classes\n",
    "- `By.NAME`: Use Name attribute for the search\n",
    "- `By.XPATH`: XPATH search (It is a XML thing)\n",
    "- `By.LINK_TEXT`: Search a -elements based on a perfect match with its text\n",
    "- `By.PARTIAL_LINK_TEXT`: Search a -elements based on a partial match with its text\n",
    "- `BY.CSS_SELECTOR`: Find HTML elements based on a CSS selector\n",
    "\n",
    "See https://selenium-python.readthedocs.io/locating-elements.html for more information on locating elements."
   ]
  },
  {
   "cell_type": "code",
   "execution_count": 7,
   "metadata": {},
   "outputs": [],
   "source": [
    "# Locate an element based on the Name attribute. In this case the Google's search box.\n",
    "search_box = driver.find_element(By.NAME, 'q')\n",
    "\n",
    "# Write a search term\n",
    "search_box.send_keys('ChromeDriver')\n",
    "\n",
    "# And submit the search\n",
    "search_box.submit()"
   ]
  },
  {
   "cell_type": "markdown",
   "metadata": {},
   "source": [
    "Notice that after submit(), the page is refreshed, so any object that was found in the old page (like search_box) is not going to work anymore. Objects must be located on the new page again.\n",
    "\n",
    "See below to get a list of properties and methods for elements (a.k.a. what can I do with an element?)"
   ]
  },
  {
   "cell_type": "code",
   "execution_count": 12,
   "metadata": {},
   "outputs": [],
   "source": [
    "# Close the browser and the driver\n",
    "driver.close()"
   ]
  },
  {
   "cell_type": "markdown",
   "metadata": {},
   "source": [
    "Another example:"
   ]
  },
  {
   "cell_type": "code",
   "execution_count": 11,
   "metadata": {},
   "outputs": [],
   "source": [
    "from selenium import webdriver\n",
    "from selenium.webdriver.common.by import By\n",
    "from selenium.webdriver.common.keys import Keys\n",
    "from time import sleep\n",
    "\n",
    "driver = webdriver.Chrome()\n",
    "driver.get('http://www.python.org')\n",
    "\n",
    "# Stops execution if 'Python' not in page's title\n",
    "assert 'Python' in driver.title\n",
    "\n",
    "# Find the search box\n",
    "elem = driver.find_element(By.NAME, 'q')\n",
    "\n",
    "# Clear it (delete content if there was any)\n",
    "elem.clear()\n",
    "\n",
    "# Write a search term\n",
    "elem.send_keys('pycon')\n",
    "\n",
    "# And press ENTER to submit the search\n",
    "elem.send_keys(Keys.RETURN)\n",
    "\n",
    "# Stops execution if the text 'No results found' is found the page source\n",
    "assert 'No results found.' not in driver.page_source\n",
    "\n",
    "# Wait a moment before closing everything\n",
    "sleep(5)\n",
    "\n",
    "# Close browser and driver\n",
    "driver.close()\n"
   ]
  },
  {
   "cell_type": "markdown",
   "metadata": {},
   "source": [
    "## Driver object methods\n",
    "\n",
    "- `add_cookie()`: Adds a cookie to your current session.\n",
    "- `back()`: Goes one step backward in the browser history.\n",
    "- `close()`: Closes the current window.\n",
    "- `create_web_element()`: Creates a web element with the specified `element_id`.\n",
    "- `delete_all_cookies()`: Delete all cookies in the scope of the session.\n",
    "- `delete_cookie()`: Deletes a single cookie with the given name.\n",
    "- `delete_network_conditions()`: Resets Chromium network emulation settings.\n",
    "- `execute()`: Sends a command to be executed by a `command.CommandExecutor`.\n",
    "- `execute_async_script()`: Asynchronously Executes JavaScript in the current window/frame.\n",
    "- `execute_cdp_cmd()`: Execute Chrome Devtools Protocol command and get returned result\n",
    "- `execute_script()`: Synchronously Executes JavaScript in the current window/frame.\n",
    "- `file_detector_context()`: Overrides the current file detector (if necessary) in limited context.\n",
    "- `find_element()`: Find an element given a By strategy and locator.\n",
    "- `find_elements()`: Find elements given a By strategy and locator.\n",
    "- `forward()`: Goes one step forward in the browser history.\n",
    "- `fullscreen_window()`: Invokes the window manager-specific 'full screen' operation\n",
    "- `get()`: Loads a web page in the current browser session.\n",
    "- `get_cookie()`: Get a single cookie by name. Returns the cookie if found, None if not.\n",
    "- `get_cookies()`: Returns a set of dictionaries, corresponding to cookies visible in the current session.\n",
    "- `get_issue_message()`: Returns an error message when there is any issue in a Cast session.\n",
    "- `get_log()`: Gets the log for a given log type\n",
    "- `get_network_conditions()`: Gets Chromium network emulation settings.\n",
    "- `get_screenshot_as_base64()`: Gets the screenshot of the current window as a base64 encoded string\n",
    "- `get_screenshot_as_file()`: Saves a screenshot of the current window to a PNG image file.\n",
    "- `get_screenshot_as_png()`: Gets the screenshot of the current window as a binary data.\n",
    "- `get_sinks()`: Returns a list of sinks available for Cast.\n",
    "- `get_window_position()`: Gets the x,y position of the current window.\n",
    "- `get_window_rect()`: Gets the x, y coordinates of the window as well as height and width of\n",
    "- `get_window_size()`: Gets the width and height of the current window.\n",
    "- `implicitly_wait()`: Sets a sticky timeout to implicitly wait for an element to be found,\n",
    "- `launch_app()`: Launches Chromium app specified by id.\n",
    "- `maximize_window()`: Maximizes the current window that webdriver is using\n",
    "- `minimize_window()`: Invokes the window manager-specific 'minimize' operation\n",
    "- `print_page()`: Takes PDF of the current page.\n",
    "- `quit()`: Closes the browser and shuts down the ChromiumDriver executable\n",
    "- `refresh()`: Refreshes the current page.\n",
    "- `save_screenshot()`: Saves a screenshot of the current window to a PNG image file. Returns\n",
    "- `set_network_conditions()`: Sets Chromium network emulation settings.\n",
    "- `set_page_load_timeout()`: Set the amount of time to wait for a page load to complete\n",
    "- `set_permissions()`: Sets Applicable Permission.\n",
    "- `set_script_timeout()`: Set the amount of time that the script should wait during an\n",
    "- `set_sink_to_use()`: Sets a specific sink, using its name, as a Cast session receiver target.\n",
    "- `set_window_position()`: Sets the x,y position of the current window. (window.moveTo)\n",
    "- `set_window_rect()`: Sets the x, y coordinates of the window as well as height and width of\n",
    "- `set_window_size()`: Sets the width and height of the current window. (window.resizeTo)\n",
    "- `start_client()`: Called before starting a new session. This method may be overridden\n",
    "- `start_session()`: Creates a new session with the desired capabilities.\n",
    "- `start_tab_mirroring()`: Starts a tab mirroring session on a specific receiver target.\n",
    "- `stop_casting()`: Stops the existing Cast session on a specific receiver target.\n",
    "- `stop_client()`: Called after executing a quit command. This method may be overridden\n",
    "\n",
    "## Driver object properties\n",
    "\n",
    "- `capabilities` or `caps`: Browser capabilities (dict)\n",
    "- `current_url`: Current URL on the browser (str)\n",
    "- `name`: Driver name (str)\n",
    "- `page_source`: Page source (str)\n",
    "- `session_id`: Current session ID (str)\n",
    "- `title`: The title of the current page (str)"
   ]
  },
  {
   "cell_type": "markdown",
   "metadata": {},
   "source": [
    "## HTML element object methods\n",
    "\n",
    "- `clear()`: Clears the text if it's a text entry element.\n",
    "- `click()`: Clicks the element.\n",
    "- `find_element()`: Find an element given a By strategy and locator.\n",
    "- `find_elements()`: Find elements given a By strategy and locator.\n",
    "- `get_attribute()`: Get an element's attribute value.\n",
    "- `get_dom_attribute()`: Gets the given attribute of the element. Unlike `get_attribute()`, this method only returns attributes declared in the element's HTML markup.\n",
    "- `get_property()`: Gets the given property of the element.\n",
    "- `is_displayed()`: Whether the element is visible to a user.\n",
    "- `is_enabled()`: Returns whether the element is enabled.\n",
    "- `is_selected()`: Whether the element is selected at this moment.\n",
    "- `location_once_scrolled_into_view`: Element coordinates (dict)\n",
    "- `screenshot()`: Saves a screenshot of the current element to a PNG image file.\n",
    "- `send_keys()`: Send keypresses to the element. It's also possible to simulate key pressing by using `Keys` -class (i.e. `Keys.ARROW_DOWN`). (See https://www.selenium.dev/selenium/docs/api/py/webdriver/selenium.webdriver.common.keys.html for a list of supported keys)\n",
    "- `submit()`: Submits a form.\n",
    "- `value_of_css_property()`: The value of a CSS property.\n",
    "\n",
    "## HTML element object properties\n",
    "\n",
    "- `aria_role`: Element's Aria role(str)\n",
    "- `accessible_name`: Element's accessible name or Aria label (str)\n",
    "- `id`: Element's ID attribute (str)\n",
    "- `location`: Element coordinates (dict)\n",
    "- `parent`: Parent element (object)\n",
    "- `rect`: Element square coordinates (dict)\n",
    "- `screenshot_as_base64`: Element image as str (str)\n",
    "- `screenshot_as_png`: Element image as bytes (bytes)\n",
    "- `size`: Element size (dict)\n",
    "- `tag_name`: Element's tagname (str)\n",
    "- `text`: Element's text (str)\n",
    "\n",
    "To get an element's HTML use `get_attribute('outerHTML')`."
   ]
  }
 ],
 "metadata": {
  "interpreter": {
   "hash": "0255ffaead9c0a95ef2547c2156e409a384f9a6616de1c84928a81f01a8ea959"
  },
  "kernelspec": {
   "display_name": "Python 3.10.2 ('venv': venv)",
   "language": "python",
   "name": "python3"
  },
  "language_info": {
   "codemirror_mode": {
    "name": "ipython",
    "version": 3
   },
   "file_extension": ".py",
   "mimetype": "text/x-python",
   "name": "python",
   "nbconvert_exporter": "python",
   "pygments_lexer": "ipython3",
   "version": "3.10.2"
  },
  "orig_nbformat": 4
 },
 "nbformat": 4,
 "nbformat_minor": 2
}
